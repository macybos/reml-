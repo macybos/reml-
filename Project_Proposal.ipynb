{
 "cells": [
  {
   "cell_type": "raw",
   "id": "33dd6c4c",
   "metadata": {
    "id": "33dd6c4c"
   },
   "source": [
    "---\n",
    "title: \"Project proposal\"\n",
    "format:\n",
    "  html:\n",
    "    toc: true\n",
    "    toc-title: Contents\n",
    "    code-fold: show\n",
    "    self-contained: true\n",
    "jupyter: python3\n",
    "---"
   ]
  },
  {
   "cell_type": "markdown",
   "id": "0116f49b",
   "metadata": {
    "id": "0116f49b"
   },
   "source": [
    "## Instructions {-}\n",
    "\n",
    "1. Please answer the following questions as part of your project proposal.\n",
    "\n",
    "2. Write your answers in the *Markdown* cells of the Jupyter notebook. You don't need to write any code, but if you want to, you may use the *Code* cells.\n",
    "\n",
    "3. Use [Quarto](https://quarto.org/docs/output-formats/html-basics.html) to print the *.ipynb* file as HTML. You will need to open the command prompt, navigate to the directory containing the file, and use the command: `quarto render filename.ipynb --to html`. Submit the HTML file.\n",
    "\n",
    "4. The project proposal is worth 8 points, and is due on **17th October 2023 at 11:59 pm**.\n",
    "\n",
    "5. You must make one submission as a group, and not individually.\n",
    "\n",
    "6. Maintaining a GitHub repository is optional, though encouraged for the project.\n",
    "\n",
    "7. Share the link of your project’s GitHub repository on the [spreadsheet](https://docs.google.com/spreadsheets/d/1khao3unpj_vsx4kOSg_Zzo77YK1UWL2w73Oa0aAirOo/edit#gid=0)."
   ]
  },
  {
   "cell_type": "markdown",
   "id": "fe7ea9bb",
   "metadata": {
    "id": "fe7ea9bb"
   },
   "source": [
    "# 1) Team name\n",
    "Mention your team name.\n",
    "\n",
    "*RE:ML*"
   ]
  },
  {
   "cell_type": "markdown",
   "id": "16fccc9b",
   "metadata": {
    "id": "16fccc9b"
   },
   "source": [
    "# 2) Member names\n",
    "Mention the names of your team members.\n",
    "\n",
    "Layla Brinster, Macy Bosnich, Ryan Lach, Emma Scally\n"
   ]
  },
  {
   "cell_type": "markdown",
   "id": "16c1a490",
   "metadata": {
    "id": "16c1a490"
   },
   "source": [
    "# 3) Topic\n",
    "Our goal of the project is to analyze Chicago's energy consumption in 2010 to explore any significant trends and correlations.\n",
    "\n",
    "*(0 points)*"
   ]
  },
  {
   "cell_type": "markdown",
   "id": "9403cdfb",
   "metadata": {
    "id": "9403cdfb"
   },
   "source": [
    "# 4) Inspiration\n",
    "What inspired your team to choose this topic?\n",
    "\n",
    "We are all uniquely motivated to explore energy and sustainability, especially as climate change becomes a more immediate threat to society. We are hoping to delve into the topic further and gain a more historical perspective.\n",
    "\n",
    "*(0.1 points)*"
   ]
  },
  {
   "cell_type": "markdown",
   "id": "51a7babb",
   "metadata": {
    "id": "51a7babb"
   },
   "source": [
    "# 5) EDA (Exploratory data analysis) questions\n",
    "\n",
    "Explain the questions to be answered in your course project. You must have 4 questions - one for each team member. Mention the name of the team member and the question that they will answer against it.\n",
    "\n",
    "Layla: How does energy consumption fluctuate throughout the year (max, min, mean, trends, etc.)?\n",
    "\n",
    "Macy: How does annual energy consumption vary across different communities and is it related  to the most common building type in the area?\n",
    "\n",
    "Ryan: Is building age related to amount of energy consumption throughout the year?\n",
    "\n",
    "Emma: How does the building subtype (single family, multi family, etc.) impact energy consumption?\n",
    "\n",
    "*(0.4 points)*"
   ]
  },
  {
   "cell_type": "markdown",
   "id": "3eb2d4f2",
   "metadata": {
    "id": "3eb2d4f2"
   },
   "source": [
    "# 6) Data\n",
    "\n",
    "What data sources will you use, and how will the data help answer the questions? Explain.\n",
    "\n",
    "If the data is open source, share the link of the data.\n",
    "\n",
    "> Data source: https://data.cityofchicago.org/Environment-Sustainable-Development/Energy-Usage-2010/8yq3-m6wp\n",
    "> \n",
    "> The dataset we are using gives a comprehensive overview of energy consumption in Chicago in 2010. Each row in the dataset represents a different building. There is a plethora of data for each building such as community, building type, building sub-type, monthly total energy consumption for each month, and more. With this information, we will be able to identify trends and relationships between different data points in the dataset.  \n",
    "\n",
    "\n",
    "What is the number of continuous variables, categorical variables, and observations in your dataset(s). If you are using multiple datasets, please provide the information for each dataset. When counting variables, count only those that have sufficient non-missing values, and will be useful.\n",
    "\n",
    "> After removing rows with missing values, our data set consists of 45884 rows and 73 columns. Of the columns we anticipate will be useful, there are 4 categorical variables, 66 continuous, and 3 columns that we think could be up for interpretation. These three columns are number of gas accounts, number of electricity accounts, and number of accounts with zero kWh usage for the year of 2010. We say these are up for interpretation because we can imagine cases when categorizing buildings into numbers of a certain account could provide useful information, but we can also see these variables being useful in a continuous sense, like finding the average number of accounts per building. \n",
    "\n",
    "\n",
    "Which variable is the main variable of interest? For example, if you are analyzing election trends, then the variable consisting of number of votes may be the main variable of interest. If you are analyzing crime rate, the variable consisting of the number of crimes may be the main variable of interest.\n",
    "\n",
    "> We are focused on analyzing energy consumption across a number of different variables. For this reason, the KWH per month and thermal consumption per month are the main variables of interest.\n",
    "\n",
    "*Note: You cannot use any of the datasets mentioned [here](https://sites.google.com/view/stat303-1fall2023/project).*\n",
    "\n",
    "*(0.4 points)*"
   ]
  },
  {
   "cell_type": "markdown",
   "id": "cb8a845f",
   "metadata": {
    "id": "cb8a845f"
   },
   "source": [
    "# 7) Stakeholders"
   ]
  },
  {
   "cell_type": "markdown",
   "id": "d39c782c",
   "metadata": {
    "id": "d39c782c"
   },
   "source": [
    "Who are the stakeholders, and how will your project benefit them? Explain.\n",
    "\n",
    "> In our opinion, stakeholders are people living in the Chicago area (especially in the buildings analyzed), landlords, and enviornmental policy makers will all benefit from a more comprehensive understanding of the energy consumption and its trends in the area. On a broader level, historical data around energy consumption can help shape policies and measures to protect our climate and create a more sustainable society.\n",
    "\n",
    "*(0.1 points)*"
   ]
  }
 ],
 "metadata": {
  "colab": {
   "provenance": []
  },
  "kernelspec": {
   "display_name": "Python 3 (ipykernel)",
   "language": "python",
   "name": "python3"
  },
  "language_info": {
   "codemirror_mode": {
    "name": "ipython",
    "version": 3
   },
   "file_extension": ".py",
   "mimetype": "text/x-python",
   "name": "python",
   "nbconvert_exporter": "python",
   "pygments_lexer": "ipython3",
   "version": "3.11.4"
  }
 },
 "nbformat": 4,
 "nbformat_minor": 5
}
